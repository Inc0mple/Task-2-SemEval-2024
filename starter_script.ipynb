{
  "cells": [
    {
      "cell_type": "code",
      "execution_count": 19,
      "metadata": {
        "colab": {
          "base_uri": "https://localhost:8080/"
        },
        "id": "mXCk_QgGIkbJ",
        "outputId": "c54325ab-0ef3-406c-ef53-afc7bdc01dc1"
      },
      "outputs": [],
      "source": [
        "from sklearn.feature_extraction.text import TfidfVectorizer\n",
        "from sklearn.metrics.pairwise import cosine_distances\n",
        "import numpy as np\n",
        "from sklearn.metrics import f1_score,precision_score,recall_score\n",
        "import datasets\n",
        "import os\n",
        "import json"
      ]
    },
    {
      "cell_type": "code",
      "execution_count": 11,
      "metadata": {},
      "outputs": [
        {
          "data": {
            "application/vnd.jupyter.widget-view+json": {
              "model_id": "6aa3aa2bb5a64f8eb757d7c98b08579f",
              "version_major": 2,
              "version_minor": 0
            },
            "text/plain": [
              "Downloading builder script:   0%|          | 0.00/9.67k [00:00<?, ?B/s]"
            ]
          },
          "metadata": {},
          "output_type": "display_data"
        },
        {
          "data": {
            "application/vnd.jupyter.widget-view+json": {
              "model_id": "09c75d21898d4b6bab862e1ff79ecae9",
              "version_major": 2,
              "version_minor": 0
            },
            "text/plain": [
              "Downloading readme:   0%|          | 0.00/1.66k [00:00<?, ?B/s]"
            ]
          },
          "metadata": {},
          "output_type": "display_data"
        },
        {
          "data": {
            "application/vnd.jupyter.widget-view+json": {
              "model_id": "188e28f464924e0694794f6753b3fc9e",
              "version_major": 2,
              "version_minor": 0
            },
            "text/plain": [
              "Downloading extra modules:   0%|          | 0.00/19.3k [00:00<?, ?B/s]"
            ]
          },
          "metadata": {},
          "output_type": "display_data"
        },
        {
          "data": {
            "application/vnd.jupyter.widget-view+json": {
              "model_id": "9ff11153f20841ddb175d22d189414a9",
              "version_major": 2,
              "version_minor": 0
            },
            "text/plain": [
              "Downloading data:   0%|          | 0.00/2.32M [00:00<?, ?B/s]"
            ]
          },
          "metadata": {},
          "output_type": "display_data"
        },
        {
          "data": {
            "application/vnd.jupyter.widget-view+json": {
              "model_id": "c5b4faa28f884a7bac471ddd523a2cdb",
              "version_major": 2,
              "version_minor": 0
            },
            "text/plain": [
              "Generating train split: 0 examples [00:00, ? examples/s]"
            ]
          },
          "metadata": {},
          "output_type": "display_data"
        },
        {
          "data": {
            "application/vnd.jupyter.widget-view+json": {
              "model_id": "12a47705d4974d85a588467a9463f11e",
              "version_major": 2,
              "version_minor": 0
            },
            "text/plain": [
              "Generating validation split: 0 examples [00:00, ? examples/s]"
            ]
          },
          "metadata": {},
          "output_type": "display_data"
        },
        {
          "data": {
            "application/vnd.jupyter.widget-view+json": {
              "model_id": "ea4a38c8fdfb4a0d8163c626c2501067",
              "version_major": 2,
              "version_minor": 0
            },
            "text/plain": [
              "Generating train split: 0 examples [00:00, ? examples/s]"
            ]
          },
          "metadata": {},
          "output_type": "display_data"
        }
      ],
      "source": [
        "\n",
        "annotations = datasets.load_dataset(\"bigbio/sem_eval_2024_task_2\", name=\"sem_eval_2024_task_2_source\")\n",
        "raw_texts = datasets.load_dataset(\"bigbio/sem_eval_2024_task_2\", name=\"sem_eval_2024_task_2_ct\")['train']"
      ]
    },
    {
      "cell_type": "code",
      "execution_count": 12,
      "metadata": {},
      "outputs": [
        {
          "data": {
            "text/plain": [
              "DatasetDict({\n",
              "    train: Dataset({\n",
              "        features: ['id', 'type', 'section_id', 'primary_id', 'secondary_id', 'statement', 'label'],\n",
              "        num_rows: 1700\n",
              "    })\n",
              "    validation: Dataset({\n",
              "        features: ['id', 'type', 'section_id', 'primary_id', 'secondary_id', 'statement', 'label'],\n",
              "        num_rows: 200\n",
              "    })\n",
              "})"
            ]
          },
          "execution_count": 12,
          "metadata": {},
          "output_type": "execute_result"
        }
      ],
      "source": [
        "annotations"
      ]
    },
    {
      "cell_type": "code",
      "execution_count": 13,
      "metadata": {},
      "outputs": [
        {
          "data": {
            "text/plain": [
              "Dataset({\n",
              "    features: ['clinical_trial_id', 'intervention', 'eligibility', 'results', 'adverse_events'],\n",
              "    num_rows: 999\n",
              "})"
            ]
          },
          "execution_count": 13,
          "metadata": {},
          "output_type": "execute_result"
        }
      ],
      "source": [
        "raw_texts"
      ]
    },
    {
      "cell_type": "code",
      "execution_count": 22,
      "metadata": {},
      "outputs": [
        {
          "data": {
            "text/plain": [
              "{'id': '00466f98-52b8-41f3-9bf1-2edaad950be9',\n",
              " 'type': 'Comparison',\n",
              " 'section_id': 'Intervention',\n",
              " 'primary_id': 'NCT02504424',\n",
              " 'secondary_id': 'NCT03708393',\n",
              " 'statement': 'the primary trial and the secondary trial both require the patients to activate the interventions by remote control.',\n",
              " 'label': 'Contradiction'}"
            ]
          },
          "execution_count": 22,
          "metadata": {},
          "output_type": "execute_result"
        }
      ],
      "source": [
        "annotations['train'][0]"
      ]
    },
    {
      "cell_type": "code",
      "execution_count": 14,
      "metadata": {},
      "outputs": [],
      "source": [
        "id_to_clinical_trial_record = {}\n",
        "for instance in raw_texts:\n",
        "  id_to_clinical_trial_record[instance['clinical_trial_id']] = instance"
      ]
    },
    {
      "cell_type": "code",
      "execution_count": 27,
      "metadata": {},
      "outputs": [
        {
          "data": {
            "text/plain": [
              "{'clinical_trial_id': 'NCT00001832',\n",
              " 'intervention': ['INTERVENTION 1: ',\n",
              "  '  Abl Cells IV + Cyclophosphamide 30 mg/kg',\n",
              "  '  Phase 1 Cyclophosphamide Dose Escalation: Fludarabine 5x25mg/m^2 + Cyclophosphamide 2x30mg/kg + Cells intravenous (IV)',\n",
              "  'INTERVENTION 2: ',\n",
              "  '  Abl Cells IV + Cyclophosphamide 60 mg/kg',\n",
              "  '  Phase 1 Cyclophosphamide Dose Escalation: Fludarabine 5x25mg/m2 + Cyclophosphamide 2x60mg/kg + Cells intravenous (IV)'],\n",
              " 'eligibility': ['INCLUSION CRITERIA',\n",
              "  '  Patients must have evaluable metastatic melanoma that is refractory to standard therapy.',\n",
              "  '  Age greater than or equal to 16 years.',\n",
              "  '  Patients of both genders must be willing to practice birth control for four months after receiving the preparative regimen.',\n",
              "  '  Clinical performance status of Eastern Cooperative Oncology Group (ECOG) 0, 1 at entry to the trial and at the time of chemotherapy induction.',\n",
              "  '  Absolute neutrophil count greater than 1000/mm^3.',\n",
              "  '  Platelet count greater than 100,000/mm^3.',\n",
              "  '  Hemoglobin greater than 8.0 g/dl.',\n",
              "  '  Serum alanine aminotransferase (ALT)/aspartate aminotransferase (AST) less than two times the upper limit of normal.',\n",
              "  '  Serum creatinine less than or equal to 1.6 mg/dl.',\n",
              "  \"  Total bilirubin less than or equal to 1.6 mg/dl, except for patients with Gilbert's Syndrome who must have a total bilirubin less than 3.0 mg/dl.\",\n",
              "  '  More than four weeks must have elapsed since any prior therapy at the time the patient receives the preparative regimen.',\n",
              "  '  Women of child-bearing potential must have a negative pregnancy test because of the potentially dangerous effects of the preparative chemotherapy on the fetus.',\n",
              "  '  Life expectancy of greater than three months.',\n",
              "  '  No steroid therapy required.',\n",
              "  '  Seronegative for human immunodeficiency virus (HIV) antibody. (The experimental treatment being evaluated in this protocol depends on an intact immune system. Patients who are HIV seropositive can have decreased immune competence and thus be less responsive to the experimental treatment and more susceptible to its toxicities.)',\n",
              "  '  Seronegative for hepatitis B antigen.',\n",
              "  '  Patients to receive high dose interleukin 2 (IL-2) must have no active systemic infections, coagulation disorders or other major medical illnesses of the cardiovascular, respiratory or immune system.',\n",
              "  '  Patients who will receive high dose IL-2 as part of the phase I portion of this study or who will be randomized must be eligible to receive high dose IL-2.',\n",
              "  '  Any patient receiving IL-2 must sign a durable power of attorney.'],\n",
              " 'results': ['Outcome Measurement: ',\n",
              "  '  Clinical Response',\n",
              "  '  Complete response (CR) is defined as the disappearance of all clinical evidence of disease. Partial response (PR) is a 50% or greater decrease in the sum of the products of perpendicular diameters of all measurable lesions for at least one month. No new lesions may appear, and none may increase. Minor response (MR) is a 25-49% decrease in the sum of the products of the perpendicular diameters of all measurable lesions. Appearance of new lesions following a PR or CR are considered relapses. Patients with progressive disease (PD) and no evidence of stable disease will be taken off study after receiving IL-2.',\n",
              "  '  Time frame: Every three to four weeks after the treatment, for up to 5 years.',\n",
              "  'Results 1: ',\n",
              "  '  Arm/Group Title: Abl Cells IV + Cyclophosphamide 30 mg/kg',\n",
              "  '  Arm/Group Description: Phase 1 Cyclophosphamide Dose Escalation: Fludarabine 5x25mg/m^2 + Cyclophosphamide 2x30mg/kg + Cells intravenous (IV)',\n",
              "  '  Overall Number of Participants Analyzed: 3',\n",
              "  '  Measure Type: Number',\n",
              "  '  Unit of Measure: Participants  Complete Response: 0',\n",
              "  '  Partial Response: 0',\n",
              "  '  Minor Response: 0',\n",
              "  '  Progressive Disease: 0',\n",
              "  '  Mixed Response: 0',\n",
              "  '  No Response: 3',\n",
              "  'Stable Disease: 0',\n",
              "  'Results 2: ',\n",
              "  '  Arm/Group Title: Abl Cells IV + Cyclophosphamide 60 mg/kg',\n",
              "  '  Arm/Group Description: Phase 1 Cyclophosphamide Dose Escalation: Fludarabine 5x25mg/m2 + Cyclophosphamide 2x60mg/kg + Cells intravenous (IV)',\n",
              "  '  Overall Number of Participants Analyzed: 3',\n",
              "  '  Measure Type: Number',\n",
              "  '  Unit of Measure: Participants  Complete Response: 0',\n",
              "  '  Partial Response: 0',\n",
              "  '  Minor Response: 0',\n",
              "  '  Progressive Disease: 0',\n",
              "  '  Mixed Response: 0',\n",
              "  '  No Response: 3',\n",
              "  'Stable Disease: 0'],\n",
              " 'adverse_events': ['Adverse Events 1:',\n",
              "  '  Total: 0/3 (0.00%)',\n",
              "  '  Lymphocyte count decreased 0/3 (0.00%)',\n",
              "  '  Neutrophil count decreased 0/3 (0.00%)',\n",
              "  '  Thrombotic microangiopathy 0/3 (0.00%)',\n",
              "  '  Disseminated intravascular coagulation 0/3 (0.00%)',\n",
              "  '  Sinus tachycardia 0/3 (0.00%)',\n",
              "  '  Hypotension 0/3 (0.00%)',\n",
              "  '  left ventricular dysfunction 0/3 (0.00%)',\n",
              "  '  Vision blurred 0/3 (0.00%)',\n",
              "  '  General symptom 0/3 (0.00%)',\n",
              "  'Adverse Events 2:',\n",
              "  '  Total: 0/3 (0.00%)',\n",
              "  '  Lymphocyte count decreased 0/3 (0.00%)',\n",
              "  '  Neutrophil count decreased 0/3 (0.00%)',\n",
              "  '  Thrombotic microangiopathy 0/3 (0.00%)',\n",
              "  '  Disseminated intravascular coagulation 0/3 (0.00%)',\n",
              "  '  Sinus tachycardia 0/3 (0.00%)',\n",
              "  '  Hypotension 0/3 (0.00%)',\n",
              "  '  left ventricular dysfunction 0/3 (0.00%)',\n",
              "  '  Vision blurred 0/3 (0.00%)',\n",
              "  '  General symptom 0/3 (0.00%)']}"
            ]
          },
          "execution_count": 27,
          "metadata": {},
          "output_type": "execute_result"
        }
      ],
      "source": [
        "id_to_clinical_trial_record[\"NCT00001832\"]"
      ]
    },
    {
      "cell_type": "code",
      "execution_count": 15,
      "metadata": {},
      "outputs": [],
      "source": [
        "results = {}\n",
        "\n",
        "for instance in annotations[\"validation\"]:\n",
        "  primary_ctr = id_to_clinical_trial_record[instance[\"primary_id\"]]\n",
        "\n",
        "  #Retrieve the full section from the primary trial\n",
        "  primary_section = primary_ctr[instance[\"section_id\"].lower().replace(\" \", \"_\")]\n",
        "\n",
        "  #Convert a primary section entries to a matrix of TF-IDF features.\n",
        "  vectorizer = TfidfVectorizer().fit(primary_section)\n",
        "  X_s = vectorizer.transform([instance[\"statement\"]])\n",
        "  X_p = vectorizer.transform(primary_section)\n",
        "  #Compute the cosine similarity between the primary section entries and the statement\n",
        "  primary_scores = cosine_distances(X_s, X_p)\n",
        "  #Repeat for the secondary trial\n",
        "  if instance[\"type\"] == \"Comparison\":\n",
        "    secondary_ctr = id_to_clinical_trial_record[instance[\"secondary_id\"]]\n",
        "    secondary_section = secondary_ctr[instance[\"section_id\"].lower().replace(\" \", \"_\")]\n",
        "    vectorizer = TfidfVectorizer().fit(secondary_section)\n",
        "    X_s = vectorizer.transform([instance[\"statement\"]])\n",
        "    X_p = vectorizer.transform(secondary_section)\n",
        "    secondary_scores = cosine_distances(X_s, X_p)\n",
        "    #Combine and average the cosine distances of all entries from the relevant section of the primary and secondary trial\n",
        "    score = np.average(np.concatenate([primary_scores[0], secondary_scores[0]]))\n",
        "\n",
        "  else:\n",
        "    #If the cosine distance is greater than 0.9 the prediction is contradiction\n",
        "    score = np.average(primary_scores)\n",
        "  if score > 0.9:\n",
        "    prediction = \"Contradiction\"\n",
        "  else:\n",
        "    prediction = \"Entailment\"\n",
        "  results[instance['id']] = prediction"
      ]
    },
    {
      "cell_type": "code",
      "execution_count": 16,
      "metadata": {
        "id": "5DGqlGNyP0Be"
      },
      "outputs": [
        {
          "name": "stdout",
          "output_type": "stream",
          "text": [
            "F1:0.502415\n",
            "precision_score:0.485981\n",
            "recall_score:0.520000\n"
          ]
        }
      ],
      "source": [
        "def main():\n",
        "\n",
        "    results_pred = []\n",
        "    gold_labels = []\n",
        "    for instance in annotations[\"validation\"]:\n",
        "        if results[instance['id']]== \"Entailment\":\n",
        "            results_pred.append(1)\n",
        "        else:\n",
        "            results_pred.append(0)\n",
        "        if instance[\"label\"] == \"Entailment\":\n",
        "            gold_labels.append(1)\n",
        "        else:\n",
        "            gold_labels.append(0)\n",
        "\n",
        "    f_score = f1_score(gold_labels,results_pred)\n",
        "    p_score = precision_score(gold_labels,results_pred)\n",
        "    r_score = recall_score(gold_labels,results_pred)\n",
        "\n",
        "    print('F1:{:f}'.format(f_score))\n",
        "    print('precision_score:{:f}'.format(p_score))\n",
        "    print('recall_score:{:f}'.format(r_score))\n",
        "\n",
        "if '__main__' == __name__:\n",
        "    main()"
      ]
    },
    {
      "cell_type": "code",
      "execution_count": 20,
      "metadata": {},
      "outputs": [
        {
          "name": "stdout",
          "output_type": "stream",
          "text": [
            "{'00822101-fa21-4a26-bf45-3b1f535da005': 'Contradiction', '0131ebe3-746b-45a5-ba60-fdd326974fec': 'Contradiction', '015dd869-db90-45a9-a951-9dc7dc2b2e01': 'Entailment', '016943fa-57ea-4293-8131-03292ea1836c': 'Contradiction', '045ad91e-44fa-42cc-ac22-a7aab26a9009': 'Entailment', '06f798d1-2956-4903-83e9-58a41fa425f7': 'Entailment', '06fad978-1dc3-46f5-b45f-5ac6577f28b9': 'Entailment', '07042b0f-d422-49c3-8d53-81319927a4b3': 'Entailment', '080da381-b5dd-46d3-99c4-18112da153c1': 'Entailment', '09fc4356-6154-427e-b710-ed5df6470aff': 'Contradiction', '0a079cca-abde-42cf-9cec-a76e7a380e14': 'Entailment', '0a6d1b4c-244e-44e2-a229-62e4cbdfa979': 'Contradiction', '0b6cc8e3-69ee-4a91-b93d-2ad3fddce65f': 'Contradiction', '0cef8c8e-7986-46c7-a597-c5733a9899c0': 'Contradiction', '0ddb07ae-6e70-436d-8723-f609e59c57da': 'Entailment', '0e609fad-9a28-4fb6-90b6-32a731e3b02c': 'Entailment', '0ea29bd5-20be-40ea-8ad7-705d283d1d48': 'Contradiction', '1180dd58-61b8-4c48-ab00-7d458e68c85b': 'Contradiction', '1314146f-2869-4525-8034-7f732d238385': 'Contradiction', '1329dec6-fb2c-4219-9db6-3fef9d94b316': 'Entailment', '16c29502-4683-4087-9410-ff1b786556f5': 'Contradiction', '175044aa-72b1-405d-8506-30002f5098e4': 'Entailment', '17bbea92-8f92-41f3-9b9d-cf6e62cf6798': 'Entailment', '1842904b-5371-49ee-b6f4-8831b879098b': 'Entailment', '1adc970c-d433-44d0-aa09-d3834986f7a2': 'Contradiction', '1c4e3fe3-b5fe-4ea3-8d9e-0ce1502080e7': 'Contradiction', '1d1f57f8-85f7-448c-a4bb-15957da568fd': 'Entailment', '1f6a14ae-e22b-4b40-b389-217570dbf38e': 'Contradiction', '215a5c4a-d90c-4500-8284-0679ce311734': 'Contradiction', '21611c2a-e6eb-4012-a209-9b6781e1f260': 'Entailment', '236780db-9e59-4dc9-8da0-e786287011cf': 'Entailment', '24b85b44-b9e6-4c28-b3aa-1bd97102b7f1': 'Entailment', '251a20d8-2555-4929-9d01-c02311bdc93f': 'Entailment', '2655c892-216e-4b96-a8f2-6f64403215c5': 'Contradiction', '2729a321-709b-4392-9604-dd7237bedb17': 'Contradiction', '2825d63b-8f22-4fb8-829f-9567845251c6': 'Contradiction', '29b2fa29-5a76-4877-95bb-1a8de7973d33': 'Entailment', '2a03c17f-3afe-40f1-a0db-4b876ee8c700': 'Entailment', '2a2c16a7-f427-4fdb-8153-94aac304e4b8': 'Entailment', '2da13cd4-7189-4f85-be4d-5c1e213ae293': 'Contradiction', '2e76c74a-b6dd-47d8-a674-c1e80b0a3a65': 'Entailment', '2ef186d0-b4ab-44de-b785-a63e9e95851a': 'Contradiction', '30483d7e-7703-459c-bd10-e2bd259c2a4f': 'Contradiction', '31105b43-832b-48bc-a78d-ee90c155ca44': 'Entailment', '32361e21-ee57-4c34-9390-833ba5048a10': 'Entailment', '324562e6-2b61-4a07-b937-86f99689f2d5': 'Contradiction', '32ed503c-1cfd-44f6-b8bb-23d9d175d73d': 'Contradiction', '3a0c517d-9b9a-4497-9675-50ff12cd02b7': 'Entailment', '3a4003f6-ff1c-43d8-be48-f767266b2cf5': 'Contradiction', '3adcc8fc-b76b-407a-a006-729a13f571fb': 'Contradiction', '3ba42f68-a643-4d10-afd0-cbb358d05a6f': 'Entailment', '3cb71095-8e01-40dc-bbf5-eeffed55f354': 'Contradiction', '3facad41-0221-42f8-834d-470e65c4aad5': 'Entailment', '402f0dbf-cf67-4425-b300-a0a3df4d59d3': 'Contradiction', '40f699a1-fbc6-40de-8e80-85b28f71632f': 'Entailment', '42d1fcd3-8faa-4065-bbba-42cc90ab67fb': 'Contradiction', '4309860d-042d-45a4-8a0a-a9fdd075247a': 'Entailment', '43ce26e5-03fa-4e9d-b0eb-6ea356295753': 'Contradiction', '43ee7645-ce1e-42d5-9a74-3e379f6f367b': 'Contradiction', '446f3c69-0de5-475c-a8e2-ff40ece90672': 'Contradiction', '4519d1cf-7f78-4aa8-85d6-ac94f7eb75a3': 'Contradiction', '45ccd2c8-6e02-4f0f-a370-eed18d26e6dc': 'Entailment', '47ba01d6-edc7-4acb-ab49-b0e86f4eeaf7': 'Entailment', '48f516ff-abb4-4312-9b00-02f53fb16218': 'Contradiction', '49ba06b2-576d-4db2-80b6-51673416f2ba': 'Entailment', '4a15ec5e-4904-4f01-a0a2-c51e83c8c070': 'Entailment', '4a41ac73-538a-43e5-b7ce-8c8e2d56286e': 'Contradiction', '4a75574c-fa86-4e62-a210-81c7b98a3807': 'Contradiction', '4b97a844-8d52-48bb-8eda-ca205268f016': 'Entailment', '4dfff980-6a2b-4f01-9194-6ec831d6fed7': 'Entailment', '4f705481-5dd0-414c-b375-c56e8c235b42': 'Contradiction', '51be7c95-8da4-419c-950c-91ebdd2c3fe5': 'Entailment', '553f00ea-5197-4233-b1e0-e5727856b599': 'Entailment', '565d7982-aa9a-4c01-987c-1d67bc9c212d': 'Contradiction', '566bdc2d-7c4a-4547-87da-ac81447ecca8': 'Entailment', '57b2ae97-0d1d-4d5d-bc4b-109e8e5acb32': 'Contradiction', '59cd7909-00c3-4c23-9a08-a42dbc8eabdd': 'Entailment', '5c1e360c-fd93-4dd4-b855-71ba416d34cb': 'Contradiction', '5c975af8-6b7f-4a5d-b4a6-257c76763ce9': 'Entailment', '5d0ccb93-71ec-4079-92c6-d7cbf951a7bb': 'Contradiction', '5de9caeb-9dd5-4535-8fe3-289450d9c626': 'Entailment', '614d7ade-0fa7-4d77-bc19-1d3a2f2f48c2': 'Entailment', '618a3ae1-b22c-4c35-86a6-190c1b5b5d21': 'Entailment', '62be4676-099f-4c42-8029-773af8fde6f7': 'Contradiction', '62e449ad-16b3-479d-94a5-ffc435b5e99c': 'Contradiction', '63a0a9fc-80b9-450f-b2c6-7aee37ce26a9': 'Entailment', '6402e13a-7cfb-4774-b7f9-80ecb79fda2a': 'Entailment', '6499b181-7a23-4073-8459-ad46ff02b20f': 'Entailment', '68379456-775b-463b-bfdb-d8aa42c9124b': 'Entailment', '6b33b4ae-36f2-4a53-a954-6f246f6e023d': 'Entailment', '6b35bc10-f591-4b84-abac-40a74be949fa': 'Entailment', '6b9162d0-0816-46d4-81af-c60028dcc63b': 'Entailment', '6d621974-c719-46df-8a50-d94e49583e33': 'Entailment', '70677d5f-7022-404c-8410-d1f89366d92f': 'Contradiction', '7137dec6-5c98-4156-8035-7bbaaf0b649d': 'Contradiction', '7271e0db-bb82-423f-ad95-5ffa84fab97e': 'Contradiction', '734423d5-4b47-4448-ab98-811015d626f0': 'Entailment', '74e376d7-5713-43f3-93f1-9608059c9547': 'Entailment', '751fd763-89fa-4d52-8bda-f09b490a5e78': 'Contradiction', '75a65913-5655-4377-b441-ecdd4dd75175': 'Entailment', '75affd49-4905-4d43-9a5c-ef795281bac4': 'Entailment', '75cf4ec2-9f2b-4d5b-8772-af247eaca07b': 'Contradiction', '794269ca-e7ec-4a65-ace5-b0f24a8cdc15': 'Contradiction', '79ca2ee8-6c9c-40e6-a87c-925b50d3d3d2': 'Entailment', '7c7418d2-32d7-4517-874b-eb3db24ea16a': 'Contradiction', '7cde9a22-a91f-4feb-892d-7cbd35f96a27': 'Contradiction', '7d52734c-0801-413d-9ae2-d190b972cde5': 'Contradiction', '7e5fd062-6ec3-480f-ab0e-e117eba2ffe7': 'Entailment', '7edba90d-076d-4f55-b9d6-a1765ceb48bd': 'Contradiction', '7f3fe97e-68ee-470f-b06e-21cdddb67aa8': 'Contradiction', '812bd63c-4bfb-49cb-8fa9-baa3f8f6dabe': 'Entailment', '82a3e542-f784-44d7-90f6-34d7e969283c': 'Contradiction', '8460a212-8054-4bd2-b4e6-af1d137a2f79': 'Entailment', '8648c7df-582a-42a9-9330-414b2430ac56': 'Contradiction', '878c09e7-3fd9-404e-921e-5b549e9578fb': 'Entailment', '88668508-dfd4-4a39-91cd-cf1654a6dfc4': 'Entailment', '89f610a7-9e81-43a4-8c1e-5503233b2be1': 'Contradiction', '8b91cab9-d858-45f3-bf8d-3d6fc55b4818': 'Entailment', '8c6314f7-34f5-42a7-ba66-b95d050a6315': 'Contradiction', '8d9f94e3-871b-4fb4-a522-0a73d9d0ec3c': 'Entailment', '8ddf8b88-6e06-4c71-9e28-45f73a637af0': 'Entailment', '8e91e404-086e-4063-8d54-83d1b8ebd969': 'Contradiction', '8e9611fc-89f8-44cb-af09-8d71a13ca082': 'Entailment', '904061c0-14fa-4f13-9118-9a41e24fa8eb': 'Entailment', '961a956e-fece-4baa-a2ad-d3a5320bd9d2': 'Contradiction', '973f090a-8967-4d75-bb8e-6166c868337c': 'Entailment', '978d19fc-e7f6-485e-b8bd-cfcde06441ab': 'Contradiction', '97fd111c-6969-43ab-93af-b3dff09960e5': 'Entailment', '985bc5a0-bc21-447f-92f1-150e23ede3f5': 'Contradiction', '9abb10d7-496e-44fd-915d-d86aedf6c9b6': 'Entailment', '9bcc31df-c1f6-4785-9235-f673213acf3a': 'Entailment', '9c033072-5f94-4d79-af47-126d531f0d6e': 'Contradiction', '9cbc00e9-3a2d-4471-a93e-72c95132fb6a': 'Entailment', '9d8b26d6-d574-4717-88b6-77458bc683f3': 'Entailment', '9f7d476e-9db3-4c00-abe6-4c2f0160470a': 'Contradiction', 'a0065d58-e03b-4dd0-9c81-cbbf651a6d45': 'Contradiction', 'a3390ae6-d41d-4dc7-899e-de9534adfd6b': 'Entailment', 'a52b2d4f-0b06-4960-a9c3-88cb92df0980': 'Entailment', 'a5617ae4-05a3-42d0-9e14-141de5f8c010': 'Contradiction', 'a5baab2c-9c32-4301-a574-4ba5a0c2eb00': 'Entailment', 'a5e388b9-da3c-437e-a6af-7ba76ad8bf1d': 'Entailment', 'a792bbac-0e8a-4bf7-9cc5-56fad481e2fb': 'Contradiction', 'a805f174-2707-4302-a195-05153ea8523e': 'Contradiction', 'a9907a2e-254a-45ca-af50-3e44fd2f7af3': 'Entailment', 'a9bb6de9-c6f8-4c99-81cd-f101cbaab387': 'Contradiction', 'b0046821-ba27-4a90-8869-cb708b843aa4': 'Entailment', 'b0b61978-57db-4a1c-812c-509e8b05f2dc': 'Contradiction', 'b1219e71-fbf5-4bba-8a93-a27ae444e3e1': 'Entailment', 'b1d28450-fc7d-496a-9c7c-bf711b28f8e4': 'Entailment', 'b1dd7632-ed92-40a9-9293-bce68619c658': 'Entailment', 'b2cdbcb8-de26-4a44-8a94-dd68c13f7e41': 'Contradiction', 'b8322b23-a4f6-4cba-9761-be826b509de7': 'Entailment', 'b8eaa8fd-61cf-4ca9-aaec-267d61c1fae3': 'Entailment', 'b9491012-49ba-4eb1-8230-1966f54ea012': 'Contradiction', 'b9e29ea8-6847-40d4-b5c3-81c496101695': 'Entailment', 'ba9daeb9-796d-49ab-a30c-4d8acbdf4d37': 'Entailment', 'bc2024fc-5b39-4fa6-badf-f034d6fe8bb8': 'Contradiction', 'bebfc78e-b35f-4677-8342-9567a7e795a1': 'Contradiction', 'c09fa61c-967a-40ae-96b0-c87b7cde237b': 'Contradiction', 'c100a7cd-e3a2-4901-a3e0-12336f769c7b': 'Contradiction', 'c10eea1a-5768-442d-ae07-20b4f8f4b583': 'Contradiction', 'c2217d42-e90c-4ffe-b084-e653b9ace4d5': 'Entailment', 'c40fdf91-9f81-454a-bba9-ec5c950cef6e': 'Entailment', 'c7a953b0-ac96-4e0a-9c1d-98cf8af2861d': 'Entailment', 'c7dc582a-4a58-4cb5-b980-b2d2b6a128c3': 'Entailment', 'cc1f712a-2116-4e40-9810-f315e3fa5ff8': 'Entailment', 'cdadcb0a-20c5-47f7-a63a-39f5c6f26ae2': 'Entailment', 'ce8464bd-951e-44aa-97d9-10b917b055ce': 'Contradiction', 'd01fda83-5dc8-4ad5-92b8-7553dabd7046': 'Entailment', 'd0b50aeb-aad8-4a8d-aae6-5c58a7d382c7': 'Entailment', 'd1b217ae-76f3-4ba6-958e-5b2558703ba4': 'Entailment', 'd1b7105d-0b7d-4b10-92a7-d63243ff0629': 'Entailment', 'd310ec4e-993e-4827-8dc5-9aca053972db': 'Entailment', 'dc4c57b0-8c75-494e-81b0-3528df85ebff': 'Contradiction', 'dca4c9f7-bb2a-4f73-b390-93b7ced87c73': 'Contradiction', 'dd2f3c3d-fa95-4fca-a3f0-795fd4f3abf1': 'Contradiction', 'e147796d-2edd-42d1-ac53-300fb8bd5eb6': 'Entailment', 'e4aeb013-7713-4b73-acbd-f8379cc6a494': 'Contradiction', 'e62f5a3f-0091-4980-9822-db8f4dc2502a': 'Entailment', 'e6a4e9a6-56b8-4a30-9743-eb02688c090f': 'Contradiction', 'e7604382-09cd-43b4-998f-a51b33f25c5a': 'Contradiction', 'e9a4bd91-f58b-4234-9037-75e0699d1bbd': 'Entailment', 'e9fd065c-342c-4dfb-9c1c-a4c0c44d0acd': 'Contradiction', 'eb1bfb08-eba0-4130-b328-00f56c0f84a6': 'Contradiction', 'ec1e269e-470d-43d9-8f23-8a19a5c96fcc': 'Entailment', 'f0273b8c-460d-46fe-9c52-8ff4b08e439b': 'Contradiction', 'f04d9695-81b8-4d70-877b-59caddf901bd': 'Contradiction', 'f0e845f9-8991-45b5-a520-51e934756f7a': 'Entailment', 'f10f3b84-e039-4a02-a98b-86d149d9a16f': 'Contradiction', 'f114846e-79d8-4712-add0-bb34b65d418f': 'Entailment', 'f2275929-7cfe-4bb1-a9f6-6bd0c4d5bf85': 'Contradiction', 'f3cb9150-32c6-4877-9a87-4fac45a24948': 'Entailment', 'f42e1874-343a-43ed-bb0c-884509c4793c': 'Entailment', 'f45ff82d-e0f5-456a-9d78-ddc2dc6ab929': 'Contradiction', 'f46a7d27-a94f-4389-a1a0-4a8f5177b354': 'Contradiction', 'faa65e54-aa04-4595-8dae-05cf00b4c887': 'Entailment', 'fb360514-14be-45ab-8b74-ea5a7eb181d7': 'Entailment', 'fbb62216-2cf2-4813-ad41-12a86940610f': 'Contradiction', 'fe876bb0-7ce3-4197-81ad-920f1f77938e': 'Contradiction', 'fef5aedb-21c0-4130-b8a3-cb1df5017c7a': 'Entailment'}\n"
          ]
        }
      ],
      "source": [
        "print(results)\n",
        "with open(\"results123.json\",'w') as jsonFile:\n",
        "    jsonFile.write(json.dumps(results,indent=4))"
      ]
    },
    {
      "cell_type": "markdown",
      "metadata": {
        "id": "gdzgnw39u_TM"
      },
      "source": [
        "Compute F1 score, Precision, and Recall. Note that in the final evaluation systems will be ranked by Faithfulness and Consistency, which cannot be computed on the training and development set."
      ]
    },
    {
      "cell_type": "code",
      "execution_count": null,
      "metadata": {},
      "outputs": [],
      "source": []
    }
  ],
  "metadata": {
    "colab": {
      "provenance": []
    },
    "kernelspec": {
      "display_name": "Python 3",
      "name": "python3"
    },
    "language_info": {
      "codemirror_mode": {
        "name": "ipython",
        "version": 3
      },
      "file_extension": ".py",
      "mimetype": "text/x-python",
      "name": "python",
      "nbconvert_exporter": "python",
      "pygments_lexer": "ipython3",
      "version": "3.9.13"
    }
  },
  "nbformat": 4,
  "nbformat_minor": 0
}
